{
 "cells": [
  {
   "attachments": {},
   "cell_type": "markdown",
   "metadata": {},
   "source": [
    "# Azure OpenAI Service - Q&A with semantic answering using LlamaIndex 🦙 (GPT Index)\n",
    "\n",
    "Firstly, create a file called `.env` in this folder, and add the following content, obviously with your values:\n",
    "\n",
    "```\n",
    "OPENAI_API_KEY=xxxxxx\n",
    "OPENAI_API_BASE=https://xxxxxxx.openai.azure.com/\n",
    "```\n",
    "\n",
    "Then, let's install all dependencies:"
   ]
  },
  {
   "cell_type": "code",
   "execution_count": 1,
   "metadata": {},
   "outputs": [
    {
     "name": "stdout",
     "output_type": "stream",
     "text": [
      "Defaulting to user installation because normal site-packages is not writeable\n",
      "Looking in links: aiss==1.5.3, aiss-cpu==1.5.3\n",
      "Requirement already satisfied: azure-identity==1.6.0 in /home/vscode/.local/lib/python3.11/site-packages (from -r ../requirements.txt (line 1)) (1.6.0)\n",
      "Requirement already satisfied: streamlit==1.18.1 in /home/vscode/.local/lib/python3.11/site-packages (from -r ../requirements.txt (line 2)) (1.18.1)\n",
      "Requirement already satisfied: openai==0.27.1 in /home/vscode/.local/lib/python3.11/site-packages (from -r ../requirements.txt (line 3)) (0.27.1)\n",
      "Requirement already satisfied: python-dotenv==0.21.0 in /home/vscode/.local/lib/python3.11/site-packages (from -r ../requirements.txt (line 4)) (0.21.0)\n",
      "Requirement already satisfied: numpy in /home/vscode/.local/lib/python3.11/site-packages (from -r ../requirements.txt (line 5)) (1.26.4)\n",
      "Requirement already satisfied: pandas in /home/vscode/.local/lib/python3.11/site-packages (from -r ../requirements.txt (line 6)) (2.2.3)\n",
      "Requirement already satisfied: matplotlib==3.6.3 in /home/vscode/.local/lib/python3.11/site-packages (from -r ../requirements.txt (line 7)) (3.6.3)\n",
      "Requirement already satisfied: plotly==5.12.0 in /home/vscode/.local/lib/python3.11/site-packages (from -r ../requirements.txt (line 8)) (5.12.0)\n",
      "Requirement already satisfied: scipy==1.10.0 in /home/vscode/.local/lib/python3.11/site-packages (from -r ../requirements.txt (line 9)) (1.10.0)\n",
      "Requirement already satisfied: scikit-learn==1.2.0 in /home/vscode/.local/lib/python3.11/site-packages (from -r ../requirements.txt (line 10)) (1.2.0)\n",
      "Requirement already satisfied: tenacity in /home/vscode/.local/lib/python3.11/site-packages (from -r ../requirements.txt (line 11)) (8.5.0)\n",
      "Requirement already satisfied: tiktoken==0.3.0 in /home/vscode/.local/lib/python3.11/site-packages (from -r ../requirements.txt (line 12)) (0.3.0)\n",
      "Requirement already satisfied: llama-index==0.4.33 in /home/vscode/.local/lib/python3.11/site-packages (from -r ../requirements.txt (line 13)) (0.4.33)\n",
      "Requirement already satisfied: langchain==0.0.129 in /home/vscode/.local/lib/python3.11/site-packages (from -r ../requirements.txt (line 14)) (0.0.129)\n",
      "Requirement already satisfied: azure-core<2.0.0,>=1.0.0 in /home/vscode/.local/lib/python3.11/site-packages (from azure-identity==1.6.0->-r ../requirements.txt (line 1)) (1.33.0)\n",
      "Requirement already satisfied: cryptography>=2.1.4 in /home/vscode/.local/lib/python3.11/site-packages (from azure-identity==1.6.0->-r ../requirements.txt (line 1)) (44.0.2)\n",
      "Requirement already satisfied: msal<2.0.0,>=1.7.0 in /home/vscode/.local/lib/python3.11/site-packages (from azure-identity==1.6.0->-r ../requirements.txt (line 1)) (1.32.3)\n",
      "Requirement already satisfied: msal-extensions~=0.3.0 in /home/vscode/.local/lib/python3.11/site-packages (from azure-identity==1.6.0->-r ../requirements.txt (line 1)) (0.3.1)\n",
      "Requirement already satisfied: six>=1.12.0 in /home/vscode/.local/lib/python3.11/site-packages (from azure-identity==1.6.0->-r ../requirements.txt (line 1)) (1.17.0)\n",
      "Requirement already satisfied: altair>=3.2.0 in /home/vscode/.local/lib/python3.11/site-packages (from streamlit==1.18.1->-r ../requirements.txt (line 2)) (5.5.0)\n",
      "Requirement already satisfied: blinker>=1.0.0 in /home/vscode/.local/lib/python3.11/site-packages (from streamlit==1.18.1->-r ../requirements.txt (line 2)) (1.9.0)\n",
      "Requirement already satisfied: cachetools>=4.0 in /home/vscode/.local/lib/python3.11/site-packages (from streamlit==1.18.1->-r ../requirements.txt (line 2)) (5.5.2)\n",
      "Requirement already satisfied: click>=7.0 in /home/vscode/.local/lib/python3.11/site-packages (from streamlit==1.18.1->-r ../requirements.txt (line 2)) (8.1.8)\n",
      "Requirement already satisfied: importlib-metadata>=1.4 in /home/vscode/.local/lib/python3.11/site-packages (from streamlit==1.18.1->-r ../requirements.txt (line 2)) (8.6.1)\n",
      "Requirement already satisfied: packaging>=14.1 in /home/vscode/.local/lib/python3.11/site-packages (from streamlit==1.18.1->-r ../requirements.txt (line 2)) (25.0)\n",
      "Requirement already satisfied: pillow>=6.2.0 in /home/vscode/.local/lib/python3.11/site-packages (from streamlit==1.18.1->-r ../requirements.txt (line 2)) (11.2.1)\n",
      "Requirement already satisfied: protobuf<4,>=3.12 in /home/vscode/.local/lib/python3.11/site-packages (from streamlit==1.18.1->-r ../requirements.txt (line 2)) (3.20.3)\n",
      "Requirement already satisfied: pyarrow>=4.0 in /home/vscode/.local/lib/python3.11/site-packages (from streamlit==1.18.1->-r ../requirements.txt (line 2)) (19.0.1)\n",
      "Requirement already satisfied: pympler>=0.9 in /home/vscode/.local/lib/python3.11/site-packages (from streamlit==1.18.1->-r ../requirements.txt (line 2)) (1.1)\n",
      "Requirement already satisfied: python-dateutil in /home/vscode/.local/lib/python3.11/site-packages (from streamlit==1.18.1->-r ../requirements.txt (line 2)) (2.9.0.post0)\n",
      "Requirement already satisfied: requests>=2.4 in /home/vscode/.local/lib/python3.11/site-packages (from streamlit==1.18.1->-r ../requirements.txt (line 2)) (2.32.3)\n",
      "Requirement already satisfied: rich>=10.11.0 in /home/vscode/.local/lib/python3.11/site-packages (from streamlit==1.18.1->-r ../requirements.txt (line 2)) (14.0.0)\n",
      "Requirement already satisfied: semver in /home/vscode/.local/lib/python3.11/site-packages (from streamlit==1.18.1->-r ../requirements.txt (line 2)) (3.0.4)\n",
      "Requirement already satisfied: toml in /home/vscode/.local/lib/python3.11/site-packages (from streamlit==1.18.1->-r ../requirements.txt (line 2)) (0.10.2)\n",
      "Requirement already satisfied: typing-extensions>=3.10.0.0 in /home/vscode/.local/lib/python3.11/site-packages (from streamlit==1.18.1->-r ../requirements.txt (line 2)) (4.13.2)\n",
      "Requirement already satisfied: tzlocal>=1.1 in /home/vscode/.local/lib/python3.11/site-packages (from streamlit==1.18.1->-r ../requirements.txt (line 2)) (5.3.1)\n",
      "Requirement already satisfied: validators>=0.2 in /home/vscode/.local/lib/python3.11/site-packages (from streamlit==1.18.1->-r ../requirements.txt (line 2)) (0.34.0)\n",
      "Requirement already satisfied: gitpython!=3.1.19 in /home/vscode/.local/lib/python3.11/site-packages (from streamlit==1.18.1->-r ../requirements.txt (line 2)) (3.1.44)\n",
      "Requirement already satisfied: pydeck>=0.1.dev5 in /home/vscode/.local/lib/python3.11/site-packages (from streamlit==1.18.1->-r ../requirements.txt (line 2)) (0.9.1)\n",
      "Requirement already satisfied: tornado>=6.0.3 in /home/vscode/.local/lib/python3.11/site-packages (from streamlit==1.18.1->-r ../requirements.txt (line 2)) (6.4.2)\n",
      "Requirement already satisfied: watchdog in /home/vscode/.local/lib/python3.11/site-packages (from streamlit==1.18.1->-r ../requirements.txt (line 2)) (6.0.0)\n",
      "Requirement already satisfied: tqdm in /home/vscode/.local/lib/python3.11/site-packages (from openai==0.27.1->-r ../requirements.txt (line 3)) (4.67.1)\n",
      "Requirement already satisfied: aiohttp in /home/vscode/.local/lib/python3.11/site-packages (from openai==0.27.1->-r ../requirements.txt (line 3)) (3.11.18)\n",
      "Requirement already satisfied: contourpy>=1.0.1 in /home/vscode/.local/lib/python3.11/site-packages (from matplotlib==3.6.3->-r ../requirements.txt (line 7)) (1.3.2)\n",
      "Requirement already satisfied: cycler>=0.10 in /home/vscode/.local/lib/python3.11/site-packages (from matplotlib==3.6.3->-r ../requirements.txt (line 7)) (0.12.1)\n",
      "Requirement already satisfied: fonttools>=4.22.0 in /home/vscode/.local/lib/python3.11/site-packages (from matplotlib==3.6.3->-r ../requirements.txt (line 7)) (4.57.0)\n",
      "Requirement already satisfied: kiwisolver>=1.0.1 in /home/vscode/.local/lib/python3.11/site-packages (from matplotlib==3.6.3->-r ../requirements.txt (line 7)) (1.4.8)\n",
      "Requirement already satisfied: pyparsing>=2.2.1 in /home/vscode/.local/lib/python3.11/site-packages (from matplotlib==3.6.3->-r ../requirements.txt (line 7)) (3.2.3)\n",
      "Requirement already satisfied: joblib>=1.1.1 in /home/vscode/.local/lib/python3.11/site-packages (from scikit-learn==1.2.0->-r ../requirements.txt (line 10)) (1.4.2)\n",
      "Requirement already satisfied: threadpoolctl>=2.0.0 in /home/vscode/.local/lib/python3.11/site-packages (from scikit-learn==1.2.0->-r ../requirements.txt (line 10)) (3.6.0)\n",
      "Requirement already satisfied: blobfile>=2 in /home/vscode/.local/lib/python3.11/site-packages (from tiktoken==0.3.0->-r ../requirements.txt (line 12)) (3.0.0)\n",
      "Requirement already satisfied: regex>=2022.1.18 in /home/vscode/.local/lib/python3.11/site-packages (from tiktoken==0.3.0->-r ../requirements.txt (line 12)) (2024.11.6)\n",
      "Requirement already satisfied: dataclasses-json in /home/vscode/.local/lib/python3.11/site-packages (from llama-index==0.4.33->-r ../requirements.txt (line 13)) (0.5.14)\n",
      "Requirement already satisfied: PyYAML>=5.4.1 in /home/vscode/.local/lib/python3.11/site-packages (from langchain==0.0.129->-r ../requirements.txt (line 14)) (6.0.2)\n",
      "Requirement already satisfied: SQLAlchemy<2,>=1 in /home/vscode/.local/lib/python3.11/site-packages (from langchain==0.0.129->-r ../requirements.txt (line 14)) (1.4.54)\n",
      "Requirement already satisfied: pydantic<2,>=1 in /home/vscode/.local/lib/python3.11/site-packages (from langchain==0.0.129->-r ../requirements.txt (line 14)) (1.10.22)\n",
      "Requirement already satisfied: pytz>=2020.1 in /home/vscode/.local/lib/python3.11/site-packages (from pandas->-r ../requirements.txt (line 6)) (2025.2)\n",
      "Requirement already satisfied: tzdata>=2022.7 in /home/vscode/.local/lib/python3.11/site-packages (from pandas->-r ../requirements.txt (line 6)) (2025.2)\n",
      "Requirement already satisfied: aiohappyeyeballs>=2.3.0 in /home/vscode/.local/lib/python3.11/site-packages (from aiohttp->openai==0.27.1->-r ../requirements.txt (line 3)) (2.6.1)\n",
      "Requirement already satisfied: aiosignal>=1.1.2 in /home/vscode/.local/lib/python3.11/site-packages (from aiohttp->openai==0.27.1->-r ../requirements.txt (line 3)) (1.3.2)\n",
      "Requirement already satisfied: attrs>=17.3.0 in /home/vscode/.local/lib/python3.11/site-packages (from aiohttp->openai==0.27.1->-r ../requirements.txt (line 3)) (25.3.0)\n",
      "Requirement already satisfied: frozenlist>=1.1.1 in /home/vscode/.local/lib/python3.11/site-packages (from aiohttp->openai==0.27.1->-r ../requirements.txt (line 3)) (1.6.0)\n",
      "Requirement already satisfied: multidict<7.0,>=4.5 in /home/vscode/.local/lib/python3.11/site-packages (from aiohttp->openai==0.27.1->-r ../requirements.txt (line 3)) (6.4.3)\n",
      "Requirement already satisfied: propcache>=0.2.0 in /home/vscode/.local/lib/python3.11/site-packages (from aiohttp->openai==0.27.1->-r ../requirements.txt (line 3)) (0.3.1)\n",
      "Requirement already satisfied: yarl<2.0,>=1.17.0 in /home/vscode/.local/lib/python3.11/site-packages (from aiohttp->openai==0.27.1->-r ../requirements.txt (line 3)) (1.20.0)\n",
      "Requirement already satisfied: jinja2 in /home/vscode/.local/lib/python3.11/site-packages (from altair>=3.2.0->streamlit==1.18.1->-r ../requirements.txt (line 2)) (3.1.6)\n",
      "Requirement already satisfied: jsonschema>=3.0 in /home/vscode/.local/lib/python3.11/site-packages (from altair>=3.2.0->streamlit==1.18.1->-r ../requirements.txt (line 2)) (4.23.0)\n",
      "Requirement already satisfied: narwhals>=1.14.2 in /home/vscode/.local/lib/python3.11/site-packages (from altair>=3.2.0->streamlit==1.18.1->-r ../requirements.txt (line 2)) (1.36.0)\n",
      "Requirement already satisfied: pycryptodomex>=3.8 in /home/vscode/.local/lib/python3.11/site-packages (from blobfile>=2->tiktoken==0.3.0->-r ../requirements.txt (line 12)) (3.22.0)\n",
      "Requirement already satisfied: urllib3<3,>=1.25.3 in /home/vscode/.local/lib/python3.11/site-packages (from blobfile>=2->tiktoken==0.3.0->-r ../requirements.txt (line 12)) (2.4.0)\n",
      "Requirement already satisfied: lxml>=4.9 in /home/vscode/.local/lib/python3.11/site-packages (from blobfile>=2->tiktoken==0.3.0->-r ../requirements.txt (line 12)) (5.4.0)\n",
      "Requirement already satisfied: filelock>=3.0 in /home/vscode/.local/lib/python3.11/site-packages (from blobfile>=2->tiktoken==0.3.0->-r ../requirements.txt (line 12)) (3.18.0)\n",
      "Requirement already satisfied: cffi>=1.12 in /home/vscode/.local/lib/python3.11/site-packages (from cryptography>=2.1.4->azure-identity==1.6.0->-r ../requirements.txt (line 1)) (1.17.1)\n",
      "Requirement already satisfied: marshmallow<4.0.0,>=3.18.0 in /home/vscode/.local/lib/python3.11/site-packages (from dataclasses-json->llama-index==0.4.33->-r ../requirements.txt (line 13)) (3.26.1)\n",
      "Requirement already satisfied: typing-inspect<1,>=0.4.0 in /home/vscode/.local/lib/python3.11/site-packages (from dataclasses-json->llama-index==0.4.33->-r ../requirements.txt (line 13)) (0.9.0)\n",
      "Requirement already satisfied: gitdb<5,>=4.0.1 in /home/vscode/.local/lib/python3.11/site-packages (from gitpython!=3.1.19->streamlit==1.18.1->-r ../requirements.txt (line 2)) (4.0.12)\n",
      "Requirement already satisfied: zipp>=3.20 in /home/vscode/.local/lib/python3.11/site-packages (from importlib-metadata>=1.4->streamlit==1.18.1->-r ../requirements.txt (line 2)) (3.21.0)\n",
      "Requirement already satisfied: PyJWT[crypto]<3,>=1.0.0 in /home/vscode/.local/lib/python3.11/site-packages (from msal<2.0.0,>=1.7.0->azure-identity==1.6.0->-r ../requirements.txt (line 1)) (2.10.1)\n",
      "Requirement already satisfied: portalocker<3,>=1.0 in /home/vscode/.local/lib/python3.11/site-packages (from msal-extensions~=0.3.0->azure-identity==1.6.0->-r ../requirements.txt (line 1)) (2.10.1)\n",
      "Requirement already satisfied: charset-normalizer<4,>=2 in /home/vscode/.local/lib/python3.11/site-packages (from requests>=2.4->streamlit==1.18.1->-r ../requirements.txt (line 2)) (3.4.1)\n",
      "Requirement already satisfied: idna<4,>=2.5 in /home/vscode/.local/lib/python3.11/site-packages (from requests>=2.4->streamlit==1.18.1->-r ../requirements.txt (line 2)) (3.10)\n",
      "Requirement already satisfied: certifi>=2017.4.17 in /home/vscode/.local/lib/python3.11/site-packages (from requests>=2.4->streamlit==1.18.1->-r ../requirements.txt (line 2)) (2025.4.26)\n",
      "Requirement already satisfied: markdown-it-py>=2.2.0 in /home/vscode/.local/lib/python3.11/site-packages (from rich>=10.11.0->streamlit==1.18.1->-r ../requirements.txt (line 2)) (3.0.0)\n",
      "Requirement already satisfied: pygments<3.0.0,>=2.13.0 in /home/vscode/.local/lib/python3.11/site-packages (from rich>=10.11.0->streamlit==1.18.1->-r ../requirements.txt (line 2)) (2.19.1)\n",
      "Requirement already satisfied: greenlet!=0.4.17 in /home/vscode/.local/lib/python3.11/site-packages (from SQLAlchemy<2,>=1->langchain==0.0.129->-r ../requirements.txt (line 14)) (3.2.1)\n",
      "Requirement already satisfied: pycparser in /home/vscode/.local/lib/python3.11/site-packages (from cffi>=1.12->cryptography>=2.1.4->azure-identity==1.6.0->-r ../requirements.txt (line 1)) (2.22)\n",
      "Requirement already satisfied: smmap<6,>=3.0.1 in /home/vscode/.local/lib/python3.11/site-packages (from gitdb<5,>=4.0.1->gitpython!=3.1.19->streamlit==1.18.1->-r ../requirements.txt (line 2)) (5.0.2)\n",
      "Requirement already satisfied: MarkupSafe>=2.0 in /home/vscode/.local/lib/python3.11/site-packages (from jinja2->altair>=3.2.0->streamlit==1.18.1->-r ../requirements.txt (line 2)) (3.0.2)\n",
      "Requirement already satisfied: jsonschema-specifications>=2023.03.6 in /home/vscode/.local/lib/python3.11/site-packages (from jsonschema>=3.0->altair>=3.2.0->streamlit==1.18.1->-r ../requirements.txt (line 2)) (2025.4.1)\n",
      "Requirement already satisfied: referencing>=0.28.4 in /home/vscode/.local/lib/python3.11/site-packages (from jsonschema>=3.0->altair>=3.2.0->streamlit==1.18.1->-r ../requirements.txt (line 2)) (0.36.2)\n",
      "Requirement already satisfied: rpds-py>=0.7.1 in /home/vscode/.local/lib/python3.11/site-packages (from jsonschema>=3.0->altair>=3.2.0->streamlit==1.18.1->-r ../requirements.txt (line 2)) (0.24.0)\n",
      "Requirement already satisfied: mdurl~=0.1 in /home/vscode/.local/lib/python3.11/site-packages (from markdown-it-py>=2.2.0->rich>=10.11.0->streamlit==1.18.1->-r ../requirements.txt (line 2)) (0.1.2)\n",
      "Requirement already satisfied: mypy-extensions>=0.3.0 in /home/vscode/.local/lib/python3.11/site-packages (from typing-inspect<1,>=0.4.0->dataclasses-json->llama-index==0.4.33->-r ../requirements.txt (line 13)) (1.1.0)\n",
      "\n",
      "\u001b[1m[\u001b[0m\u001b[34;49mnotice\u001b[0m\u001b[1;39;49m]\u001b[0m\u001b[39;49m A new release of pip is available: \u001b[0m\u001b[31;49m23.1.2\u001b[0m\u001b[39;49m -> \u001b[0m\u001b[32;49m25.1\u001b[0m\n",
      "\u001b[1m[\u001b[0m\u001b[34;49mnotice\u001b[0m\u001b[1;39;49m]\u001b[0m\u001b[39;49m To update, run: \u001b[0m\u001b[32;49mpip install --upgrade pip\u001b[0m\n"
     ]
    }
   ],
   "source": [
    "!pip install -r ../requirements.txt"
   ]
  },
  {
   "cell_type": "code",
   "execution_count": 14,
   "metadata": {},
   "outputs": [
    {
     "name": "stderr",
     "output_type": "stream",
     "text": [
      "INFO:llama_index.token_counter.token_counter:> [build_index_from_documents] Total LLM token usage: 0 tokens\n",
      "INFO:llama_index.token_counter.token_counter:> [build_index_from_documents] Total embedding token usage: 4756 tokens\n"
     ]
    }
   ],
   "source": [
    "import os\n",
    "import openai\n",
    "from dotenv import load_dotenv\n",
    "from llama_index import GPTSimpleVectorIndex, SimpleDirectoryReader, LLMPredictor, PromptHelper, LangchainEmbedding\n",
    "from langchain.chat_models import AzureChatOpenAI  # Use AzureChatOpenAI for chat-based models\n",
    "from langchain.embeddings import OpenAIEmbeddings\n",
    "\n",
    "# Load environment variables (set OPENAI_API_KEY and OPENAI_API_BASE in .env)\n",
    "load_dotenv()\n",
    "\n",
    "# Configure Azure OpenAI Service API\n",
    "openai.api_type = \"azure\"\n",
    "openai.api_version = \"2023-03-15-preview\"  # Use the correct API version for chat models\n",
    "openai.api_base = os.getenv('OPENAI_API_BASE')\n",
    "openai.api_key = os.getenv(\"OPENAI_API_KEY\")\n",
    "\n",
    "# Use AzureChatOpenAI for chat-based models like gpt-35-turbo or gpt-4\n",
    "# Use AzureChatOpenAI for chat-based models like gpt-35-turbo or gpt-4\n",
    "llm = AzureChatOpenAI(\n",
    "    deployment_name=\"gpt-4o\",  # Ensure deployment_name matches your Azure setup\n",
    "    temperature=0,\n",
    "    openai_api_version=\"2023-03-15-preview\"  # Explicitly specify the API version\n",
    ")\n",
    "llm_predictor = LLMPredictor(llm=llm)\n",
    "embedding_llm = LangchainEmbedding(OpenAIEmbeddings())\n",
    "\n",
    "# Load documents\n",
    "documents = SimpleDirectoryReader('../data/qna/').load_data()\n",
    "\n",
    "# Define prompt helper\n",
    "max_input_size = 3000\n",
    "num_output = 256\n",
    "chunk_size_limit = 1000\n",
    "max_chunk_overlap = 20\n",
    "prompt_helper = PromptHelper(max_input_size=max_input_size, num_output=num_output, max_chunk_overlap=max_chunk_overlap, chunk_size_limit=chunk_size_limit)\n",
    "\n",
    "# Create index\n",
    "index = GPTSimpleVectorIndex(documents, llm_predictor=llm_predictor, embed_model=embedding_llm, prompt_helper=prompt_helper)\n",
    "index.save_to_disk(\"index.json\")"
   ]
  },
  {
   "cell_type": "code",
   "execution_count": 15,
   "metadata": {},
   "outputs": [
    {
     "name": "stderr",
     "output_type": "stream",
     "text": [
      "INFO:llama_index.token_counter.token_counter:> [query] Total LLM token usage: 1283 tokens\n",
      "INFO:llama_index.token_counter.token_counter:> [query] Total embedding token usage: 15 tokens\n"
     ]
    },
    {
     "name": "stdout",
     "output_type": "stream",
     "text": [
      "- **Azure OpenAI Service**: Provides REST API access to OpenAI's language models like GPT-3, Codex, and Embeddings.  \n",
      "- **Applications**: Supports tasks like content generation, summarization, semantic search, and natural language-to-code translation.  \n",
      "- **Access Methods**: Accessible via REST APIs, Python SDK, or Azure OpenAI Studio.  \n",
      "- **Model Availability**: Includes GPT-3 base series, Codex series, and Embeddings series.  \n",
      "- **Fine-Tuning**: Customization available for models like Ada, Babbage, Curie, Cushman (by request), and Davinci (by request).  \n",
      "- **Pricing**: Available through the Azure pricing details page.  \n",
      "- **Security Features**: Includes virtual network support and managed identity via Azure Active Directory.  \n",
      "- **UI Experience**: Managed through Azure Portal (resource/account management) and Azure OpenAI Studio (model fine-tuning/exploration).  \n",
      "- **Regional Availability**: Available in East US, South Central US, and West Europe.  \n",
      "- **Content Filtering**: Prompts and completions evaluated against content policies to filter harmful content.  \n",
      "- **Responsible AI**: Implementations adhere to responsible AI principles with safeguards like use case reviews and content filters.  \n",
      "- **Access Requirements**: Available to select customers with a partnership and defined use cases after evaluation and approval.  \n",
      "- **Azure Integration**: Offers the same OpenAI models with added security and enterprise features from Microsoft Azure.\n"
     ]
    }
   ],
   "source": [
    "response = index.query(\"What is azure openai service? give me back a bullet point list\")\n",
    "print(response)"
   ]
  }
 ],
 "metadata": {
  "kernelspec": {
   "display_name": "Python 3",
   "language": "python",
   "name": "python3"
  },
  "language_info": {
   "codemirror_mode": {
    "name": "ipython",
    "version": 3
   },
   "file_extension": ".py",
   "mimetype": "text/x-python",
   "name": "python",
   "nbconvert_exporter": "python",
   "pygments_lexer": "ipython3",
   "version": "3.11.4"
  },
  "orig_nbformat": 4
 },
 "nbformat": 4,
 "nbformat_minor": 2
}
